{
 "cells": [
  {
   "attachments": {},
   "cell_type": "markdown",
   "metadata": {},
   "source": [
    "# How to call functions with ChatGPT\n",
    "\n",
    "This notebook covers how to use the Chat Completions API (aka ChatCPT) in combination with external functions to extend the capabilities of GPT models.\n",
    "\n",
    "`Function calling` is an optional capabilities in the Chat Completion API which can be used to provide function specifications. The purpose of this is to enable models to generate function arguments which adhere to the provided specifications.\n",
    "\n",
    "The `Request-ChatGPT` or `Request-ChatCompletion` commands has optional parameters for use of function call. You can provide function specifications to GPT models."
   ]
  },
  {
   "attachments": {},
   "cell_type": "markdown",
   "metadata": {},
   "source": [
    "## Overview\n",
    "This notebook contains the following 2 sections:\n",
    "\n",
    "How to generate function arguments: Specify a set of functions and use the API to generate function arguments.  \n",
    "How to invoke functions with model generated arguments: Close the loop by actually executing functions with model generated arguments."
   ]
  },
  {
   "attachments": {},
   "cell_type": "markdown",
   "metadata": {},
   "source": [
    "## How to generate function arguments\n",
    "\n",
    "### Create function specifications\n",
    "\n",
    "In order to have the GPT model perform a function call, a function specification has to be created and given as a parameter to the model."
   ]
  },
  {
   "cell_type": "code",
   "execution_count": 1,
   "metadata": {
    "dotnet_interactive": {
     "language": "pwsh"
    },
    "polyglot_notebook": {
     "kernelName": "pwsh"
    }
   },
   "outputs": [],
   "source": [
    "# imports\n",
    "Import-Module ..\\PSOpenAI.psd1 -Force"
   ]
  },
  {
   "attachments": {},
   "cell_type": "markdown",
   "metadata": {},
   "source": [
    "#### Method 1: Defines function specifications manually\n",
    "\n",
    "You can create hashtable that represents function specification manually.\n",
    "\n",
    "This example creates a specifications for a `Get-WeatherByCityAndDate` function that takes two arguments: a `city` name and a `date`."
   ]
  },
  {
   "cell_type": "code",
   "execution_count": 2,
   "metadata": {
    "dotnet_interactive": {
     "language": "pwsh"
    },
    "polyglot_notebook": {
     "kernelName": "pwsh"
    }
   },
   "outputs": [],
   "source": [
    "$GetWeatherFunction = @{\n",
    "    name = \"Get-WeatherByCityAndDate\"                            # The name of function\n",
    "    description = \"Get specific date of weather in the city\"    # Brief description of the function\n",
    "    parameters = @{\n",
    "        type = \"object\"\n",
    "        properties = @{\n",
    "            \"city\" = @{                                         # The name of first argument\n",
    "                type = \"string\"                                 # Type of the argument\n",
    "                description = 'The city name, e.g. New York'    # Brief description (optional)\n",
    "            }\n",
    "            \"date\" = @{                                         # The name of second argument\n",
    "                type = \"string\"\n",
    "                format = \"date\"\n",
    "            }\n",
    "        }\n",
    "    required = (\"city\", \"date\")                                 # Arguments that should be specified\n",
    "    }\n",
    "}"
   ]
  },
  {
   "attachments": {},
   "cell_type": "markdown",
   "metadata": {},
   "source": [
    "#### Method 2: Generate function specifications from PowerShell commands\n",
    "\n",
    "PSOpenAI has a `New-ChatCompletionFunction` that helps generating specifications from PowerShell command definitions.\n",
    "\n",
    "This example generates specification of the `Test-Connection` command with 3 parameters."
   ]
  },
  {
   "cell_type": "code",
   "execution_count": 3,
   "metadata": {
    "dotnet_interactive": {
     "language": "pwsh"
    },
    "polyglot_notebook": {
     "kernelName": "pwsh"
    }
   },
   "outputs": [],
   "source": [
    "$PingFunction = New-ChatCompletionFunction -Command \"Test-Connection\" -IncludeParameters ('TargetName', 'Count', 'Delay')"
   ]
  },
  {
   "attachments": {},
   "cell_type": "markdown",
   "metadata": {},
   "source": [
    "`New-ChatCompletionFunction` can convert any PowerShell command into a function specification for ChatGPT, but the design of most PowerShell commands is not optimized for passing to the GPT model.\n",
    "\n",
    "It is best to create your own properly designed PowerShell functions for optimal results."
   ]
  },
  {
   "cell_type": "code",
   "execution_count": 4,
   "metadata": {
    "dotnet_interactive": {
     "language": "pwsh"
    },
    "polyglot_notebook": {
     "kernelName": "pwsh"
    }
   },
   "outputs": [],
   "source": [
    "# This function is an example of a PowerShell function optimized for the GPT model.\n",
    "<#\n",
    "Tips: \n",
    "    1. Functions should be named appropriately.\n",
    "    2. The name of functions should be less than 64 characters and may only contain alphanumeric, hyphens, and underscores.  \n",
    "    3. Always write comment-based help for function.\n",
    "    4. Be sure to write a description of the function itself and each parameter.\n",
    "#>\n",
    "function Get-WeatherByCityAndDate {\n",
    "    <#\n",
    "        .DESCRIPTION\n",
    "        This command returns specific date of weather in the city.\n",
    "\n",
    "        .PARAMETER City\n",
    "        Specifies the city name, e.g. New York\n",
    "\n",
    "        .PARAMETER Date\n",
    "        Specifies the date to get information.\n",
    "\n",
    "        .PARAMETER Format\n",
    "        The temperature unit to use. Default is \"celsius\".\n",
    "    #>\n",
    "    param\n",
    "    (\n",
    "        <#\n",
    "        Tips: \n",
    "          1. Parameters should be of the appropriate type.\n",
    "          2. Use only primitive types for parameters. Avoid .NET classes.\n",
    "          3. Required parameters use the Mandatory attribute.\n",
    "          4. Use Validation attributes if there are restrictions on the values that can be specified.\n",
    "        #>\n",
    "        [Parameter(Mandatory = $true)]\n",
    "        [string]$City,\n",
    "\n",
    "        [Parameter(Mandatory = $true)]\n",
    "        [datetime]$Date,\n",
    "\n",
    "        [Parameter()]\n",
    "        [ValidateSet('celsius', 'fahrenheit')]\n",
    "        [string]$Format = 'celsius'\n",
    "    )\n",
    "    \n",
    "    <#\n",
    "    Tips:\n",
    "      1. Interactive commands with confirmation dialogs or input by users are not good.\n",
    "      2. The object to be returned by the function is best suited as [string], [HashTable], or [PSCustomObject].\n",
    "      3. Select only the necessary information to be returned. Outputs excessive information is not a good idea.\n",
    "    #>\n",
    "\n",
    "    # In reality, the information is obtained from API or Database.\n",
    "    $result = @{\n",
    "        city                = $city\n",
    "        date                = $date\n",
    "        weather             = 'Sunny'\n",
    "        highest_temperature = 30.0\n",
    "        lowest_temperature  = 21.2\n",
    "        temperature_format  = $Format\n",
    "    }\n",
    "\n",
    "    Write-Output $result\n",
    "}"
   ]
  },
  {
   "attachments": {},
   "cell_type": "markdown",
   "metadata": {},
   "source": [
    "### Instructs the GPT model to create arguments for function calls.\n",
    "\n",
    "Give the function specifications in the `-Functions` parameter of the `Request-ChatCompletion`.  \n",
    "If the GPT model chooses to make a function call from the content of the message, the name and arguments of the function are stored in `functions_call` of the response message."
   ]
  },
  {
   "cell_type": "code",
   "execution_count": 5,
   "metadata": {
    "dotnet_interactive": {
     "language": "pwsh"
    },
    "polyglot_notebook": {
     "kernelName": "pwsh"
    }
   },
   "outputs": [
    {
     "data": {
      "text/plain": []
     },
     "metadata": {},
     "output_type": "display_data"
    },
    {
     "name": "stdout",
     "output_type": "stream",
     "text": [
      "\n",
      "\u001b[32;1mrole          : \u001b[0massistant\n",
      "\u001b[32;1mcontent       : \u001b[0m\n",
      "\u001b[32;1mfunction_call : \u001b[0m@{name=Get-WeatherByCityAndDate; arguments={\n",
      "                  \"city\": \"Philadelphia\",\n",
      "                  \"date\": \"2023-06-01\"\n",
      "                }}\n",
      "\n",
      "\n"
     ]
    }
   ],
   "source": [
    "$Message = 'What is the weather in Philadelphia on June 1, 2023?'\n",
    "$GPTAnswer = Request-ChatCompletion -Message $Message -Model gpt-3.5-turbo-0613 -Functions $GetWeatherFunction\n",
    "$GPTAnswer.choices[0].message | Format-List"
   ]
  },
  {
   "attachments": {},
   "cell_type": "markdown",
   "metadata": {},
   "source": [
    "In this example, the GPT model has selected the appropriate calling function and created arguments from the natural language message, but it does not actually execute the `Get-WeatherByCityAndDate` function. It is up to you to decide whether and how to execute the function.\n",
    "\n",
    "To give the result of a function execution to ChatGPT and get an answer for the user, do the following."
   ]
  },
  {
   "cell_type": "code",
   "execution_count": 7,
   "metadata": {
    "dotnet_interactive": {
     "language": "pwsh"
    },
    "polyglot_notebook": {
     "kernelName": "pwsh"
    }
   },
   "outputs": [
    {
     "name": "stdout",
     "output_type": "stream",
     "text": [
      "Result of execution the function:\n",
      "\n",
      "\u001b[32;1mName                           Value\u001b[0m\n",
      "\u001b[32;1m----                           -----\u001b[0m\n",
      "temperature_format             celsius\n",
      "lowest_temperature             21.2\n",
      "city                           Philadelphia\n",
      "date                           2023/06/01 0:00:00\n",
      "weather                        Sunny\n",
      "highest_temperature            30\n"
     ]
    },
    {
     "data": {
      "text/plain": []
     },
     "metadata": {},
     "output_type": "display_data"
    },
    {
     "name": "stdout",
     "output_type": "stream",
     "text": [
      "Answer by ChatGPT:\n",
      "\n",
      "\n",
      "\u001b[32;1mrole    : \u001b[0massistant\n",
      "\u001b[32;1mcontent : \u001b[0mOn June 1, 2023, the weather in Philadelphia is expected to be sunny. The lowest temperat\n",
      "          ure will be around 21.2ºC (70.2ºF), and the highest temperature is forecasted to be aroun\n",
      "          d 30ºC (86ºF).\n",
      "\n",
      "\n"
     ]
    }
   ],
   "source": [
    "# Invoke functions explicitly by yourself\n",
    "$FunctionResult = Get-WeatherByCityAndDate -City \"Philadelphia\" -Date \"2023-06-01\"\n",
    "Write-Host 'Result of execution the function:'\n",
    "$FunctionResult\n",
    "\n",
    "# To give the result of a function execution to ChatGPT and get an answer\n",
    "$FunctionResultAsJson = $FunctionResult | ConvertTo-Json\n",
    "$GPTAnswer2nd = $GPTAnswer | Request-ChatCompletion -Message $FunctionResultAsJson -Role 'function' -Name 'Get-WeatherByCityAndDate' -Model gpt-3.5-turbo-0613\n",
    "Write-Host 'Answer by ChatGPT:'\n",
    "$GPTAnswer2nd.choices[0].message | Format-List"
   ]
  },
  {
   "attachments": {},
   "cell_type": "markdown",
   "metadata": {},
   "source": [
    "## How to invoke functions with model generated arguments\n",
    "\n",
    "Specifying `Auto` for `-InvokeFunctionOnCallMode` parameter in `Request-ChatCompletion`, it will implicitly execute the function and return the result when the GPT model requests function call.\n",
    "\n",
    "Note: Only PowerShell commands can be executed. Native commands or commands that require another runtime such as Python cannot be executed and will generate an error."
   ]
  },
  {
   "cell_type": "code",
   "execution_count": 8,
   "metadata": {
    "dotnet_interactive": {
     "language": "pwsh"
    },
    "polyglot_notebook": {
     "kernelName": "pwsh"
    }
   },
   "outputs": [
    {
     "data": {
      "text/plain": []
     },
     "metadata": {},
     "output_type": "display_data"
    },
    {
     "name": "stdout",
     "output_type": "stream",
     "text": [
      "\n",
      "\u001b[32;1mrole    : \u001b[0massistant\n",
      "\u001b[32;1mcontent : \u001b[0mI have pinged the Google Public DNS address three times. Here are the results:\n",
      "          \n",
      "          Ping 1: 8.8.8.8 - Success, Latency: 8ms\n",
      "          Ping 2: 8.8.8.8 - Success, Latency: 8ms\n",
      "          Ping 3: 8.8.8.8 - Success, Latency: 7ms\n",
      "\n",
      "\n"
     ]
    }
   ],
   "source": [
    "$Message = 'Ping the Google Public DNS address three times and briefly report the results.'\n",
    "$GPTPingAnswer = Request-ChatCompletion -Message $Message -Model gpt-3.5-turbo-0613 -Functions $PingFunction -InvokeFunctionOnCallMode Auto\n",
    "$GPTPingAnswer.choices[0].message | Format-List"
   ]
  },
  {
   "attachments": {},
   "cell_type": "markdown",
   "metadata": {},
   "source": [
    "The contents of implicitly executed commands are stored in the message history."
   ]
  },
  {
   "cell_type": "code",
   "execution_count": 9,
   "metadata": {
    "dotnet_interactive": {
     "language": "pwsh"
    },
    "polyglot_notebook": {
     "kernelName": "pwsh"
    }
   },
   "outputs": [
    {
     "name": "stdout",
     "output_type": "stream",
     "text": [
      "\n",
      "\u001b[32;1mname      : \u001b[0mTest-Connection\n",
      "\u001b[32;1marguments : \u001b[0m{\n",
      "              \"TargetName\": [\"8.8.8.8\"],\n",
      "              \"Count\": 3\n",
      "            }\n",
      "\n",
      "\n"
     ]
    }
   ],
   "source": [
    "[pscustomobject]($GPTPingAnswer.History | ? {$_.keys -contains 'function_call'}) | select -ExpandProperty function_call | Format-List"
   ]
  }
 ],
 "metadata": {
  "kernelspec": {
   "display_name": ".NET (C#)",
   "language": "C#",
   "name": ".net-csharp"
  },
  "language_info": {
   "name": "polyglot-notebook"
  },
  "polyglot_notebook": {
   "kernelInfo": {
    "defaultKernelName": "csharp",
    "items": [
     {
      "aliases": [],
      "name": "csharp"
     },
     {
      "aliases": [],
      "languageName": "pwsh",
      "name": "pwsh"
     }
    ]
   }
  }
 },
 "nbformat": 4,
 "nbformat_minor": 2
}
