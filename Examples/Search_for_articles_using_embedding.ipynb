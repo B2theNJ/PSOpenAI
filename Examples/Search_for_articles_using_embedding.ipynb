{
 "cells": [
  {
   "attachments": {},
   "cell_type": "markdown",
   "metadata": {},
   "source": [
    "# Search for articles using embedding\n",
    "\n",
    "This notebook describes the practical use of text embedding.\n",
    "\n",
    "As an example of usage, we will extract articles in the dataset that are highly similar to the specified keywords."
   ]
  },
  {
   "attachments": {},
   "cell_type": "markdown",
   "metadata": {},
   "source": [
    "## 0. Prerequisites\n",
    "\n",
    "### Import libraries\n",
    "\n",
    "We need to calculate the cosine similarity to find the similarity between the keywords and the data. However PowerShell does not have a standard function to calculate this, we will use the [Math.NET Numerics](https://www.nuget.org/packages/MathNet.Numerics/) library for this example."
   ]
  },
  {
   "cell_type": "code",
   "execution_count": 1,
   "metadata": {
    "dotnet_interactive": {
     "language": "pwsh"
    },
    "polyglot_notebook": {
     "kernelName": "pwsh"
    }
   },
   "outputs": [],
   "source": [
    "# Import\n",
    "Import-Module ..\\PSOpenAI.psd1"
   ]
  },
  {
   "cell_type": "code",
   "execution_count": 2,
   "metadata": {
    "dotnet_interactive": {
     "language": "pwsh"
    },
    "polyglot_notebook": {
     "kernelName": "pwsh"
    }
   },
   "outputs": [
    {
     "data": {
      "text/plain": []
     },
     "metadata": {},
     "output_type": "display_data"
    }
   ],
   "source": [
    "# Download Math.NET Numerics library from Nuget\n",
    "$LibraryUrl = 'https://www.nuget.org/api/v2/package/MathNet.Numerics/5.0.0'\n",
    "Invoke-WebRequest -Uri $LibraryUrl -OutFile '.\\mathnet.numerics.5.0.0.nupkg'\n",
    "Expand-Archive '.\\mathnet.numerics.5.0.0.nupkg' -Force\n",
    "\n",
    "# Load library\n",
    "Add-Type -Path '.\\mathnet.numerics.5.0.0\\lib\\netstandard2.0\\MathNet.Numerics.dll'\n",
    "\n",
    "# Define a funtion for calculate the cosine similarity\n",
    "function Get-CosineSimilarity {\n",
    "    param(\n",
    "        [float[]]$Input1,\n",
    "        [float[]]$Input2\n",
    "    )\n",
    "    $Vector1 = [MathNet.Numerics.LinearAlgebra.Vector[float]]::Build.Dense($Input1)\n",
    "    $Vector2 = [MathNet.Numerics.LinearAlgebra.Vector[float]]::Build.Dense($Input2)\n",
    "    $Vector1.DotProduct($Vector2) / $Vector1.L2Norm() * $Vector2.L2Norm()\n",
    "}"
   ]
  },
  {
   "attachments": {},
   "cell_type": "markdown",
   "metadata": {},
   "source": [
    "## 1. Prepare a dataset\n",
    "\n",
    "In this example, `AG_news_samples.csv` in the [openai-cookbook](https://github.com/openai/openai-cookbook/) repository is used as the dataset. This CSV file contains the titles and descriptions of 2000 news articles."
   ]
  },
  {
   "cell_type": "code",
   "execution_count": 3,
   "metadata": {
    "dotnet_interactive": {
     "language": "pwsh"
    },
    "polyglot_notebook": {
     "kernelName": "pwsh"
    }
   },
   "outputs": [
    {
     "data": {
      "text/plain": []
     },
     "metadata": {},
     "output_type": "display_data"
    },
    {
     "name": "stdout",
     "output_type": "stream",
     "text": [
      "\n",
      "\u001b[32;1mtitle                                              description\u001b[0m\n",
      "\u001b[32;1m-----                                              -----------                                     \u001b[0m\n",
      "World Briefings                                    BRITAIN: BLAIR WARNS OF CLIMATE THREAT Prime Mi…\n",
      "Nvidia Puts a Firewall on a Motherboard (PC World) PC World - Upcoming chip set will include built…\n",
      "Olympic joy in Greek, Chinese press                Newspapers in Greece reflect a mixture of exhil…\n",
      "\n"
     ]
    }
   ],
   "source": [
    "# Download sample dataset\n",
    "$DatasetUrl = 'https://raw.githubusercontent.com/openai/openai-cookbook/297c53430cad2d05ba763ab9dca64309cb5091e9/examples/data/AG_news_samples.csv'\n",
    "Invoke-WebRequest -Uri $DatasetUrl -OutFile '.\\AG_news_samples.csv'\n",
    "\n",
    "# Load dataset to memory\n",
    "$Dataset = Get-Content '.\\AG_news_samples.csv' | ConvertFrom-Csv\n",
    "\n",
    "# Show first 3 data of artices\n",
    "$Dataset | select -First 3"
   ]
  },
  {
   "attachments": {},
   "cell_type": "markdown",
   "metadata": {},
   "source": [
    "### (Optional) Filtering too long texts\n",
    "In this example, we use the `text-embedding-ada-002` model for embedding articles. The maximum token length of this model that can be input is `8191` tokens.\n",
    "\n",
    "We calculate the token length of the input string using `ConvertTo-Token` function to exclude data that exceeds `8191` tokens.\n",
    "\n",
    "Note: The sample dataset used in this example does not contain data exceeding the maximum token length. You can skip this process. Calculating the token length for 2000 articles will take a long time, even with a Core i9-12900K system, it took about 120 seconds."
   ]
  },
  {
   "cell_type": "code",
   "execution_count": 4,
   "metadata": {
    "dotnet_interactive": {
     "language": "pwsh"
    },
    "polyglot_notebook": {
     "kernelName": "pwsh"
    }
   },
   "outputs": [],
   "source": [
    "$Model = 'text-embedding-ada-002'  # OpenAI's best embeddings as of Apr 2023\n",
    "$MaxTokenLength = 8191\n",
    "\n",
    "Exclude too long artices\n",
    "$Dataset = $Dataset | ? {\n",
    "    $text = $_.title + ' : ' + $_.description\n",
    "    $tokens = ConvertTo-Token -Text $_.description -Model $Model\n",
    "    $tokens.Count -le $MaxTokenLength\n",
    "}"
   ]
  },
  {
   "attachments": {},
   "cell_type": "markdown",
   "metadata": {},
   "source": [
    "## 2. Embed documents\n",
    "\n",
    "Now that we can compute embeddings for each articles by `Request-Embeddings` function.\n",
    "\n",
    "For each article in the dataset, embed the text of the title and description concatenated with a colon, and add the result to the dataset."
   ]
  },
  {
   "cell_type": "code",
   "execution_count": 7,
   "metadata": {
    "dotnet_interactive": {
     "language": "pwsh"
    },
    "polyglot_notebook": {
     "kernelName": "pwsh"
    }
   },
   "outputs": [
    {
     "data": {
      "text/plain": []
     },
     "metadata": {},
     "output_type": "display_data"
    },
    {
     "name": "stdout",
     "output_type": "stream",
     "text": [
      "\n",
      "\u001b[32;1mtitle       : \u001b[0mWorld Briefings\n",
      "\u001b[32;1mdescription : \u001b[0mBRITAIN: BLAIR WARNS OF CLIMATE THREAT Prime Minister Tony Blair urged the internatio\n",
      "              nal community to consider global warming a dire threat and agree on a plan of action \n",
      "              to curb the  quot;alarming quot; growth of greenhouse gases.\n",
      "\u001b[32;1mlabel_int   : \u001b[0m1\n",
      "\u001b[32;1mlabel       : \u001b[0mWorld\n",
      "\u001b[32;1mEmbedding   : \u001b[0m{-0.01141339, -0.02303488, -0.01050292, -0.02532406…}\n",
      "\n",
      "\u001b[32;1mtitle       : \u001b[0mNvidia Puts a Firewall on a Motherboard (PC World)\n",
      "\u001b[32;1mdescription : \u001b[0mPC World - Upcoming chip set will include built-in security features for your PC.\n",
      "\u001b[32;1mlabel_int   : \u001b[0m4\n",
      "\u001b[32;1mlabel       : \u001b[0mSci/Tech\n",
      "\u001b[32;1mEmbedding   : \u001b[0m{0.001204324, -0.02190714, 0.001971776, -0.02091623…}\n",
      "\n",
      "\u001b[32;1mtitle       : \u001b[0mOlympic joy in Greek, Chinese press\n",
      "\u001b[32;1mdescription : \u001b[0mNewspapers in Greece reflect a mixture of exhilaration that the Athens Olympics prove\n",
      "              d successful, and relief that they passed off without any major setback.\n",
      "\u001b[32;1mlabel_int   : \u001b[0m2\n",
      "\u001b[32;1mlabel       : \u001b[0mSports\n",
      "\u001b[32;1mEmbedding   : \u001b[0m{-0.004390786, -0.002832924, 0.01760238, -0.02965988…}\n",
      "\n",
      "\n"
     ]
    }
   ],
   "source": [
    "# If you have no time, can use pre-calculated data in this repository.\n",
    "# Expand-Archive '.\\dataset\\AG_news_samples_embedded.zip' -Force\n",
    "# $Dataset = Import-Clixml '.\\AG_news_samples_embedded\\AG_news_samples_embedded.xml'\n",
    "\n",
    "# Embed all artices (it may take a long time)\n",
    "$Dataset | % {\n",
    "    $text = $_.title + ' : ' + $_.description\n",
    "    $embeds = Request-Embeddings -Text $text -Model 'text-embedding-ada-002' -MaxRetryCount 2\n",
    "    $_ | Add-Member -MemberType NoteProperty -Name 'Embedding' -Value $embeds.data[0].embedding\n",
    "}\n",
    "\n",
    "# Show first 3 data of artices\n",
    "$Dataset | select -First 3"
   ]
  },
  {
   "attachments": {},
   "cell_type": "markdown",
   "metadata": {},
   "source": [
    "An Embedding property is added to each data and the calculated embedding is stored."
   ]
  },
  {
   "attachments": {},
   "cell_type": "markdown",
   "metadata": {},
   "source": [
    "## 3. Search for articles by keyword\n",
    "\n",
    "Perform keyword searches using embedded data.\n",
    "\n",
    "Calculate the keyword embeddings and determine the cosine similarity with the embeddings of each article. The articles with a cosine similarity close to 1 are more relevant to the keywords, so we extract 3 articles in order of similarity."
   ]
  },
  {
   "cell_type": "code",
   "execution_count": 10,
   "metadata": {
    "dotnet_interactive": {
     "language": "pwsh"
    },
    "polyglot_notebook": {
     "kernelName": "pwsh"
    }
   },
   "outputs": [
    {
     "data": {
      "text/plain": []
     },
     "metadata": {},
     "output_type": "display_data"
    },
    {
     "name": "stdout",
     "output_type": "stream",
     "text": [
      "\n",
      "\u001b[32;1mtitle       : \u001b[0mOlympic joy in Greek, Chinese press\n",
      "\u001b[32;1mdescription : \u001b[0mNewspapers in Greece reflect a mixture of exhilaration that the Athens Olympics prove\n",
      "              d successful, and relief that they passed off without any major setback.\n",
      "\u001b[32;1mlabel_int   : \u001b[0m2\n",
      "\u001b[32;1mlabel       : \u001b[0mSports\n",
      "\u001b[32;1mEmbedding   : \u001b[0m{-0.004390786, -0.002832924, 0.01760238, -0.02965988…}\n",
      "\n",
      "\u001b[32;1mtitle       : \u001b[0mChina supreme heading for Beijing\n",
      "\u001b[32;1mdescription : \u001b[0mATHENS: China, the dominant force in world diving for the best part of 20 years, won \n",
      "              six out of eight Olympic titles in Athens and prompted speculation about a clean swee\n",
      "              p when they stage the Games in Beijing in 2008.\n",
      "\u001b[32;1mlabel_int   : \u001b[0m2\n",
      "\u001b[32;1mlabel       : \u001b[0mSports\n",
      "\u001b[32;1mEmbedding   : \u001b[0m{0.006527618, 0.01006661, 0.002017991, -0.01895911…}\n",
      "\n",
      "\u001b[32;1mtitle       : \u001b[0mOlympic Games 2012 great stake for France #39;s sports, says French &lt;b&gt;...&lt;/\n",
      "              b&gt;\n",
      "\u001b[32;1mdescription : \u001b[0mThe success of Paris #39; bid for Olympic Games 2012 would bring an exceptional devel\n",
      "              opment for France for at least 6 years, said Jean-Francois Lamour, French minister fo\n",
      "              r Youth and Sports on Tuesday.\n",
      "\u001b[32;1mlabel_int   : \u001b[0m2\n",
      "\u001b[32;1mlabel       : \u001b[0mSports\n",
      "\u001b[32;1mEmbedding   : \u001b[0m{-0.00692886, -0.008241144, 0.01593113, -0.01473695…}\n",
      "\n",
      "\n"
     ]
    }
   ],
   "source": [
    "$Keyword = 'Olympics'\n",
    "\n",
    "# Calculates embedding of a keyword for search\n",
    "$SearchVector = (Request-Embeddings -Text $Keyword -Model 'text-embedding-ada-002').data[0].embedding\n",
    "\n",
    "# Extract the 3 articles with the highest similarity\n",
    "$Dataset | Sort-Object {\n",
    "    Get-CosineSimilarity -Input1 $SearchVector -Input2 $_.Embedding\n",
    "} -Descending | select -First 3"
   ]
  },
  {
   "attachments": {},
   "cell_type": "markdown",
   "metadata": {},
   "source": [
    "Three articles related to the keyword \"Olympics\" were retrieved.\n",
    "\n",
    "This example may not give you much of the advantage of searching using embedding compared to a regular text search.\n",
    "\n",
    "So, let's change the keyword to \"オリンピック\" (the word that the Olympics in Japanese)."
   ]
  },
  {
   "cell_type": "code",
   "execution_count": 11,
   "metadata": {
    "dotnet_interactive": {
     "language": "pwsh"
    },
    "polyglot_notebook": {
     "kernelName": "pwsh"
    }
   },
   "outputs": [
    {
     "data": {
      "text/plain": []
     },
     "metadata": {},
     "output_type": "display_data"
    },
    {
     "name": "stdout",
     "output_type": "stream",
     "text": [
      "\n",
      "\u001b[32;1mtitle       : \u001b[0mOlympic joy in Greek, Chinese press\n",
      "\u001b[32;1mdescription : \u001b[0mNewspapers in Greece reflect a mixture of exhilaration that the Athens Olympics prove\n",
      "              d successful, and relief that they passed off without any major setback.\n",
      "\u001b[32;1mlabel_int   : \u001b[0m2\n",
      "\u001b[32;1mlabel       : \u001b[0mSports\n",
      "\u001b[32;1mEmbedding   : \u001b[0m{-0.004390786, -0.002832924, 0.01760238, -0.02965988…}\n",
      "\n",
      "\u001b[32;1mtitle       : \u001b[0mATHENS 2004/Inoue crashes out\n",
      "\u001b[32;1mdescription : \u001b[0mATHENS-In one of the biggest shocks in Olympic judo history, defending champion Kosei\n",
      "               Inoue was defeated by Dutchman Elco van der Geest in the men #39;s 100-kilogram cate\n",
      "              gory Thursday. \n",
      "\u001b[32;1mlabel_int   : \u001b[0m2\n",
      "\u001b[32;1mlabel       : \u001b[0mSports\n",
      "\u001b[32;1mEmbedding   : \u001b[0m{-0.007725361, 0.0102562, 0.01050862, 0.00970486…}\n",
      "\n",
      "\u001b[32;1mtitle       : \u001b[0mOlympians out with plenty to prove in NYC Marathon\n",
      "\u001b[32;1mdescription : \u001b[0mWhen Paula Radcliffe dropped out of the Olympic marathon miles from the finish, she s\n",
      "              obbed uncontrollably. Margaret Okayo knew the feeling.\n",
      "\u001b[32;1mlabel_int   : \u001b[0m2\n",
      "\u001b[32;1mlabel       : \u001b[0mSports\n",
      "\u001b[32;1mEmbedding   : \u001b[0m{-0.007147718, -0.01550621, 0.01158494, 0.003845596…}\n",
      "\n",
      "\n"
     ]
    }
   ],
   "source": [
    "$Keyword = 'オリンピック' # \"Olympics\" in Japanese\n",
    "\n",
    "# Calculates embedding of a keyword for search\n",
    "$SearchVector = (Request-Embeddings -Text $Keyword -Model 'text-embedding-ada-002').data[0].embedding\n",
    "\n",
    "# Extract the 3 articles with the highest similarity\n",
    "$Dataset | Sort-Object {\n",
    "    Get-CosineSimilarity -Input1 $SearchVector -Input2 $_.Embedding\n",
    "} -Descending | select -First 3"
   ]
  },
  {
   "attachments": {},
   "cell_type": "markdown",
   "metadata": {},
   "source": [
    "Although the original dataset was created entirely in English and does not include the Japanese word \"オリンピック,\" we were able to properly extract articles related to the Olympics. Using embedding allows for ambiguous searches that take into account the meaning of the words in this way."
   ]
  }
 ],
 "metadata": {
  "kernelspec": {
   "display_name": ".NET (C#)",
   "language": "C#",
   "name": ".net-csharp"
  },
  "language_info": {
   "name": "polyglot-notebook"
  },
  "polyglot_notebook": {
   "kernelInfo": {
    "defaultKernelName": "csharp",
    "items": [
     {
      "aliases": [],
      "name": "csharp"
     },
     {
      "aliases": [],
      "languageName": "pwsh",
      "name": "pwsh"
     }
    ]
   }
  }
 },
 "nbformat": 4,
 "nbformat_minor": 2
}
