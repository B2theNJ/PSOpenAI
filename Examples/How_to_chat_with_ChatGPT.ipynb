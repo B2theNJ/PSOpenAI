{
 "cells": [
  {
   "attachments": {},
   "cell_type": "markdown",
   "metadata": {},
   "source": [
    "# How to chat with ChatGPT\n",
    "\n",
    "ChatGPT is powered by `gpt-3.5-turbo` and `gpt-4`, OpenAI's most advanced models.\n",
    "\n",
    "PSOpenAI PowerShell module provides `Request-ChatGPT` command for using the OpenAI API throw PowerShell friendly style.\n",
    "\n",
    "`Request-ChatGPT` take a series of messages as input, and return an AI-written message as output.\n",
    "\n",
    "This guide illustrates how to use `Request-ChatGPT` with various parameters."
   ]
  },
  {
   "attachments": {},
   "cell_type": "markdown",
   "metadata": {},
   "source": [
    "## 1. Import the PSOpenAI module and set API key\n",
    "\n",
    "If you set the API key to the environment variable named `OPENAI_API_KEY`. PSOpenAI commands will use it implicitly."
   ]
  },
  {
   "cell_type": "code",
   "execution_count": 10,
   "metadata": {
    "dotnet_interactive": {
     "language": "pwsh"
    },
    "polyglot_notebook": {
     "kernelName": "pwsh"
    }
   },
   "outputs": [],
   "source": [
    "# imports\n",
    "Import-Module ..\\PSOpenAI.psd1\n",
    "\n",
    "# Set OpenAI API Key\n",
    "$env:OPENAI_API_KEY = '<Put your API key here>'"
   ]
  },
  {
   "attachments": {},
   "cell_type": "markdown",
   "metadata": {},
   "source": [
    "## 2. Ask one question to ChatGPT, and get an answer\n",
    "\n",
    "`Request-ChatGPT` has one required parameter and some basic optional parameters:\n",
    "\n",
    "+ `Message`: The messages to ChatGPT. This parameter is required.\n",
    "+ `Model`: The name of the model you want to use (e.g.: `gpt-3.5-turbo`, `gpt-4`). This is optional. If not specified, `gpt-3.5-turbo` will be used."
   ]
  },
  {
   "cell_type": "code",
   "execution_count": 11,
   "metadata": {
    "dotnet_interactive": {
     "language": "pwsh"
    },
    "polyglot_notebook": {
     "kernelName": "pwsh"
    }
   },
   "outputs": [
    {
     "data": {
      "text/plain": []
     },
     "metadata": {},
     "output_type": "display_data"
    },
    {
     "name": "stdout",
     "output_type": "stream",
     "text": [
      "\n",
      "\u001b[32;1mid      : \u001b[0mchatcmpl-75cGbAzzwCTOqOwJ8UsZLPHoFYHDI\n",
      "\u001b[32;1mobject  : \u001b[0mchat.completion\n",
      "\u001b[32;1mmodel   : \u001b[0mgpt-3.5-turbo-0301\n",
      "\u001b[32;1musage   : \u001b[0m@{prompt_tokens=16; completion_tokens=32; total_tokens=48}\n",
      "\u001b[32;1mchoices : \u001b[0m{@{message=; finish_reason=stop; index=0}}\n",
      "\u001b[32;1mcreated : \u001b[0m2023/04/16 0:38:13\n",
      "\u001b[32;1mMessage : \u001b[0mHi, please tell me your name.\n",
      "\u001b[32;1mAnswer  : \u001b[0m{I am an AI language model created by OpenAI and do not have a name. You may simply call \n",
      "          me OpenAI. How may I assist you today?}\n",
      "\u001b[32;1mHistory : \u001b[0m{System.Collections.Specialized.OrderedDictionary, System.Collections.Specialized.Ordered\n",
      "          Dictionary}\n",
      "\n",
      "\n"
     ]
    }
   ],
   "source": [
    "$Response = Request-ChatGPT -Message \"Hi, please tell me your name.\" -Model \"gpt-3.5-turbo\"\n",
    "Write-Output $Response"
   ]
  },
  {
   "attachments": {},
   "cell_type": "markdown",
   "metadata": {},
   "source": [
    "As you can see, the response object has a few fields:  \n",
    "\n",
    "+ `id`: The ID of the request\n",
    "+ `object`: The type of object returned\n",
    "+ `model`: The full name of the model used to generate the response\n",
    "+ `usage`: The number of tokens used to\n",
    "+ `choces`: a list of completion objects\n",
    "+ `created`: The timestamp of the request\n",
    "+ `Message`: The message to the ChatGPT\n",
    "+ `Answer`: a list of the response messages from ChatGPT\n",
    "+ `History`: a list of message history of past dialogues\n"
   ]
  },
  {
   "attachments": {},
   "cell_type": "markdown",
   "metadata": {},
   "source": [
    "Extract just the reply with:"
   ]
  },
  {
   "cell_type": "code",
   "execution_count": 12,
   "metadata": {
    "dotnet_interactive": {
     "language": "pwsh"
    },
    "polyglot_notebook": {
     "kernelName": "pwsh"
    }
   },
   "outputs": [
    {
     "name": "stdout",
     "output_type": "stream",
     "text": [
      "I am an AI language model created by OpenAI and do not have a name. You may simply call me OpenAI. How may I assist you today?\r\n"
     ]
    }
   ],
   "source": [
    "$Response.Answer"
   ]
  },
  {
   "attachments": {},
   "cell_type": "markdown",
   "metadata": {},
   "source": [
    "## 3. Multiple messages with context preserved. (conversation)\n",
    "\n",
    "`Request-ChatGPT` accepts past dialogs from pipeline. Additional questions can be asked while maintaining context."
   ]
  },
  {
   "cell_type": "code",
   "execution_count": 15,
   "metadata": {
    "dotnet_interactive": {
     "language": "pwsh"
    },
    "polyglot_notebook": {
     "kernelName": "pwsh"
    }
   },
   "outputs": [
    {
     "data": {
      "text/plain": []
     },
     "metadata": {},
     "output_type": "display_data"
    },
    {
     "name": "stdout",
     "output_type": "stream",
     "text": [
      "[1]: As of July 2021, the population of the United States is approximately 332 million people.\n",
      "[2]: 2021年7月現在、アメリカ合衆国の人口は約3億3,200万人です。\n"
     ]
    }
   ],
   "source": [
    "$Response1 = Request-ChatGPT -Message \"What is the population of the United States? Please answer briefly.\"\n",
    "\"[1]: \" + $Response1.Answer\n",
    "\n",
    "$Response2 = $Response1 | Request-ChatGPT -Message \"Translate the previous answer into Japanese.\"\n",
    "\"[2]: \" + $Response2.Answer"
   ]
  }
 ],
 "metadata": {
  "kernelspec": {
   "display_name": ".NET (PowerShell)",
   "language": "PowerShell",
   "name": ".net-pwsh"
  },
  "language_info": {
   "name": "polyglot-notebook"
  },
  "polyglot_notebook": {
   "kernelInfo": {
    "defaultKernelName": "pwsh",
    "items": [
     {
      "aliases": [],
      "languageName": "pwsh",
      "name": "pwsh"
     }
    ]
   }
  }
 },
 "nbformat": 4,
 "nbformat_minor": 2
}
