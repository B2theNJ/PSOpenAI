{
    "cells": [
        {
            "attachments": {},
            "cell_type": "markdown",
            "metadata": {},
            "source": [
                "# How to use with Azure OpenAI Service\n",
                "\n",
                "PSOpenAI has limited supports for Azure OpenAI Service."
            ]
        },
        {
            "attachments": {},
            "cell_type": "markdown",
            "metadata": {},
            "source": [
                "## Setup\n",
                "\n",
                "For the following sections to work properly we first have to setup some things."
            ]
        },
        {
            "attachments": {},
            "cell_type": "markdown",
            "metadata": {},
            "source": [
                "### Create resource\n",
                "\n",
                "If you don't create an Azure OpenAI resource yet, you need to create it by following steps.  \n",
                "\n",
                "1. Go to https://portal.azure.com/#create/Microsoft.CognitiveServicesOpenAI\n",
                "1. Fill out all mandatory parameters. then create resource.\n",
                "1. Go to resource page that has been created."
            ]
        },
        {
            "attachments": {},
            "cell_type": "markdown",
            "metadata": {},
            "source": [
                "### Get keys and endpoint name.\n",
                "\n",
                "You have to get the access token and endpoint name to call the API.\n",
                "\n",
                "1. Go to resource page that has been created.\n",
                "1. Click on [Keys and Endpoint]\n",
                "1. Find your API key and Endpoint name.\n",
                "1. Set these to the variables for using by script.\n",
                "\n",
                "Note: Two keys are provided as standard for rotation, but only one of them is needed.\n",
                "\n",
                "![image](./images/azure_keys_and_endpoint_01.png)"
            ]
        },
        {
            "cell_type": "code",
            "execution_count": null,
            "metadata": {
                "dotnet_interactive": {
                    "language": "pwsh"
                },
                "polyglot_notebook": {
                    "kernelName": "pwsh"
                }
            },
            "outputs": [],
            "source": [
                "# imports\n",
                "Import-Module ..\\PSOpenAI.psd1\n",
                "\n",
                "$AuthType = 'azure'\n",
                "$global:OPENAI_API_KEY = '<Put your api key here>'\n",
                "$global:OPENAI_API_BASE  = 'https://<resource-name>.openai.azure.com/'"
            ]
        },
        {
            "attachments": {},
            "cell_type": "markdown",
            "metadata": {},
            "source": [
                "### (Optional) Use Azure Active Directory Authentication\n",
                "\n",
                "You can get a user-based token from Azure AD by logging in with the [Az.Accounts](https://www.powershellgallery.com/packages/Az.Accounts/) PowerShell module or Azure CLI tools. This way you are secured by MFA and no need for a API Key.\n",
                "\n",
                "Users logging in with Azure AD must be assigned a `Cognitive Services User` role or higher privileges.\n",
                "\n",
                "Roles can be assigned from the [Access Control (IAM)] in the resource page.\n",
                "\n",
                "![image](./images/azure_iam_01.png)"
            ]
        },
        {
            "cell_type": "code",
            "execution_count": null,
            "metadata": {
                "dotnet_interactive": {
                    "language": "pwsh"
                },
                "polyglot_notebook": {
                    "kernelName": "pwsh"
                }
            },
            "outputs": [],
            "source": [
                "# To run the following code, you need to install Az.Accounts PowerShell module.\n",
                "# Install-Module Az.Accounts\n",
                "Import-Module Az.Accounts\n",
                "\n",
                "# Login with Azure AD\n",
                "Connect-AzAccount\n",
                "\n",
                "# Retrive access token\n",
                "$MyToken = Get-AzAccessToken -ResourceUrl 'https://cognitiveservices.azure.com'\n",
                "\n",
                "# Set to variables\n",
                "$AuthType = 'azure_ad'  # You need to set AuthType as \"azure_ad\".\n",
                "$global:OPENAI_API_KEY = $MyToken.Token\n"
            ]
        },
        {
            "attachments": {},
            "cell_type": "markdown",
            "metadata": {},
            "source": [
                "### Create model deployments manually\n",
                "\n",
                "In Azure, the AI model to be used must be deployed under an arbitrary name.\n",
                "\n",
                "1. Go to [Azure OpenAI Studio](https://oai.azure.com/) page.\n",
                "1. Click on the [Deployments]\n",
                "1. Click [Create new deployment], give it a name, select a model and version, then click [Create].\n",
                "\n",
                "![image](./images/azure_model_deployments_01.png)\n"
            ]
        },
        {
            "cell_type": "code",
            "execution_count": null,
            "metadata": {
                "dotnet_interactive": {
                    "language": "pwsh"
                },
                "polyglot_notebook": {
                    "kernelName": "pwsh"
                }
            },
            "outputs": [],
            "source": [
                "$DeploymentName = '<Put your deployment name here>'"
            ]
        },
        {
            "attachments": {},
            "cell_type": "markdown",
            "metadata": {},
            "source": [
                "### (Optional) Create model deployments programatically\n",
                "\n",
                "PSOpenAI has helper functions to manage model deployments.\n",
                "\n",
                "Note 1 : You can only one deployment per model.  \n",
                "Note 2 : Currently, you can not specify the name of deployments from script. The name will be set automatically by Azure API.\n"
            ]
        },
        {
            "cell_type": "code",
            "execution_count": null,
            "metadata": {
                "dotnet_interactive": {
                    "language": "pwsh"
                },
                "polyglot_notebook": {
                    "kernelName": "pwsh"
                }
            },
            "outputs": [
                {
                    "name": "stdout",
                    "output_type": "stream",
                    "text": [
                        "Creating a new deployment with model: gpt-35-turbo\r\n"
                    ]
                },
                {
                    "data": {
                        "text/plain": []
                    },
                    "metadata": {},
                    "output_type": "display_data"
                },
                {
                    "name": "stdout",
                    "output_type": "stream",
                    "text": [
                        "Successfully created deployment with id: deployment-e59fa1085d07498983986b06bf6b5629\n",
                        "\n",
                        "\u001b[32;1mscale_settings : \u001b[0m@{scale_type=standard}\n",
                        "\u001b[32;1mmodel          : \u001b[0mgpt-35-turbo\n",
                        "\u001b[32;1mowner          : \u001b[0morganization-owner\n",
                        "\u001b[32;1mid             : \u001b[0mdeployment-e59fa1085d07498983986b06bf6b5629\n",
                        "\u001b[32;1mstatus         : \u001b[0msucceeded\n",
                        "\u001b[32;1mobject         : \u001b[0mdeployment\n",
                        "\u001b[32;1mcreated_at     : \u001b[0m2023/04/29 18:25:26\n",
                        "\u001b[32;1mupdated_at     : \u001b[0m2023/04/29 18:25:26\n",
                        "\n",
                        "\n"
                    ]
                }
            ],
            "source": [
                "# Now let's create the deployment\n",
                "$model = 'gpt-35-turbo'\n",
                "echo \"Creating a new deployment with model: $model\"\n",
                "$deploy = New-AzureOpenAIDeployments -Model $model -ScaleType 'standard'\n",
                "$DeploymentName = $deploy.id\n",
                "echo \"Successfully created deployment with id: $($deploy.id)\"\n",
                "echo $deploy"
            ]
        },
        {
            "attachments": {},
            "cell_type": "markdown",
            "metadata": {},
            "source": [
                "## Create chat completion\n",
                "\n",
                "Now let's send a sample chat completion to the deployment."
            ]
        },
        {
            "cell_type": "code",
            "execution_count": null,
            "metadata": {
                "dotnet_interactive": {
                    "language": "pwsh"
                },
                "polyglot_notebook": {
                    "kernelName": "pwsh"
                }
            },
            "outputs": [
                {
                    "data": {
                        "text/plain": []
                    },
                    "metadata": {},
                    "output_type": "display_data"
                },
                {
                    "name": "stdout",
                    "output_type": "stream",
                    "text": [
                        "\n",
                        "\u001b[32;1mid      : \u001b[0mchatcmpl-7Ab7oNOpy1dKm5bvhld6oRy6dlpXi\n",
                        "\u001b[32;1mobject  : \u001b[0mchat.completion\n",
                        "\u001b[32;1mmodel   : \u001b[0mgpt-35-turbo\n",
                        "\u001b[32;1mchoices : \u001b[0m{@{index=0; finish_reason=stop; message=}}\n",
                        "\u001b[32;1musage   : \u001b[0m@{completion_tokens=9; prompt_tokens=14; total_tokens=23}\n",
                        "\u001b[32;1mcreated : \u001b[0m2023/04/29 18:25:44\n",
                        "\u001b[32;1mMessage : \u001b[0mHello Azure OpenAI Service.\n",
                        "\u001b[32;1mAnswer  : \u001b[0m{Hello! How may I assist you today?}\n",
                        "\u001b[32;1mHistory : \u001b[0m{System.Collections.Specialized.OrderedDictionary, System.Collections.Specialized.Ordered\n",
                        "          Dictionary}\n",
                        "\n",
                        "\n"
                    ]
                }
            ],
            "source": [
                "# Need to set these variables properly in the above codes.\n",
                "# $AuthType\n",
                "# $DeploymentName\n",
                "# $global:OPENAI_API_KEY\n",
                "# $global:OPENAI_API_BASE\n",
                "\n",
                "Request-AzureChatCompletion `\n",
                "  -Message 'Hello Azure OpenAI Service.' `\n",
                "  -Deployment $DeploymentName `\n",
                "  -AuthType $AuthType"
            ]
        },
        {
            "attachments": {},
            "cell_type": "markdown",
            "metadata": {},
            "source": [
                "### (Optional) Delete deployments programatically\n",
                "\n",
                "Finally, let's delete the deployment."
            ]
        },
        {
            "cell_type": "code",
            "execution_count": null,
            "metadata": {
                "dotnet_interactive": {
                    "language": "pwsh"
                },
                "polyglot_notebook": {
                    "kernelName": "pwsh"
                }
            },
            "outputs": [
                {
                    "name": "stdout",
                    "output_type": "stream",
                    "text": [
                        "Deleting deployment: deployment-e59fa1085d07498983986b06bf6b5629\r\n"
                    ]
                },
                {
                    "data": {
                        "text/plain": []
                    },
                    "metadata": {},
                    "output_type": "display_data"
                }
            ],
            "source": [
                "echo \"Deleting deployment: $DeploymentName\"\n",
                "Remove-AzureOpenAIDeployments -Deployment $DeploymentName -Force"
            ]
        }
    ],
    "metadata": {
        "kernelspec": {
            "display_name": ".NET (C#)",
            "language": "C#",
            "name": ".net-csharp"
        },
        "language_info": {
            "name": "polyglot-notebook"
        },
        "polyglot_notebook": {
            "kernelInfo": {
                "defaultKernelName": "csharp",
                "items": [
                    {
                        "aliases": [],
                        "name": "csharp"
                    },
                    {
                        "aliases": [],
                        "languageName": "pwsh",
                        "name": "pwsh"
                    }
                ]
            }
        }
    },
    "nbformat": 4,
    "nbformat_minor": 2
}
