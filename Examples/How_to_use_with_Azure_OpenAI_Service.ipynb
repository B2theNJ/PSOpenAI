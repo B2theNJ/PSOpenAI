{
    "cells": [
        {
            "attachments": {},
            "cell_type": "markdown",
            "metadata": {},
            "source": [
                "# How to use with Azure OpenAI Service\n",
                "\n",
                "PSOpenAI has limited supports for Azure OpenAI Service."
            ]
        },
        {
            "attachments": {},
            "cell_type": "markdown",
            "metadata": {},
            "source": [
                "## Setup\n",
                "\n",
                "For the following sections to work properly we first have to setup some things."
            ]
        },
        {
            "attachments": {},
            "cell_type": "markdown",
            "metadata": {},
            "source": [
                "### Create resource\n",
                "\n",
                "If you don't create an Azure OpenAI resource yet, you need to create it by following steps.  \n",
                "\n",
                "1. Go to https://portal.azure.com/#create/Microsoft.CognitiveServicesOpenAI\n",
                "1. Fill out all mandatory parameters. then create resource.\n",
                "1. Go to resource page that has been created."
            ]
        },
        {
            "attachments": {},
            "cell_type": "markdown",
            "metadata": {},
            "source": [
                "### Get keys and endpoint name.\n",
                "\n",
                "You have to get the access token and endpoint name to call the API.\n",
                "\n",
                "1. Go to resource page that has been created.\n",
                "1. Click on [Keys and Endpoint]\n",
                "1. Find your API key and Endpoint name.\n",
                "1. Set these to the variables for using by script.\n",
                "\n",
                "Note: Two keys are provided as standard for rotation, but only one of them is required.\n",
                "\n",
                "![image](./images/azure_keys_and_endpoint_01.png)"
            ]
        },
        {
            "cell_type": "code",
            "execution_count": 1,
            "metadata": {
                "dotnet_interactive": {
                    "language": "pwsh"
                },
                "polyglot_notebook": {
                    "kernelName": "pwsh"
                }
            },
            "outputs": [],
            "source": [
                "$AuthType = 'azure'\n",
                "$global:OPENAI_API_KEY = '<Put your api key here>'\n",
                "$global:OPENAI_API_BASE  = 'https://<resource-name>.openai.azure.com/'"
            ]
        },
        {
            "attachments": {},
            "cell_type": "markdown",
            "metadata": {},
            "source": [
                "### (Optinal) Use Azure Active Directory Authentication\n",
                "\n",
                "You can get a user-based token from Azure AD by logging on with the [Az.Accounts](https://www.powershellgallery.com/packages/Az.Accounts/) PowerShell module or Azure CLI tools. This way you are secured by MFA and no need for a API Key.\n",
                "\n",
                "Users logging in with Azure AD must be members of a role with `Cognitive Servcices User` or higher privileges.\n",
                "\n",
                "Roles can be assigned from the [Access Control (IAM)] in resource page.\n",
                "\n",
                "![image](./images/azure_iam_01.png)"
            ]
        },
        {
            "cell_type": "code",
            "execution_count": 2,
            "metadata": {
                "dotnet_interactive": {
                    "language": "pwsh"
                },
                "polyglot_notebook": {
                    "kernelName": "pwsh"
                }
            },
            "outputs": [],
            "source": [
                "# To run the below code, you need to install Az.Accounts PowerShell module.\n",
                "# Install-Module Az.Accounts\n",
                "Import-Module Az.Accounts\n",
                "\n",
                "# Log in with AzureAD\n",
                "Connect-AzAccount\n",
                "\n",
                "# Retrive access token\n",
                "$MyToken = Get-AzAccessToken -ResourceUrl 'https://cognitiveservices.azure.com'\n",
                "\n",
                "# Set to variables\n",
                "$AuthType = 'azure_ad'  # You need to set AuthType as \"azure_ad\".\n",
                "$global:OPENAI_API_KEY = $MyToken.Token\n"
            ]
        },
        {
            "attachments": {},
            "cell_type": "markdown",
            "metadata": {},
            "source": [
                "### Create model deployments\n",
                "\n",
                "In Azure, the AI model to be used must be deployed under an arbitrary name.\n",
                "\n",
                "1. Go to resource page that has been created.\n",
                "1. Click on the [Model deployments]\n",
                "1. Click Create, give it a name, select a model and version, then click Save.\n",
                "\n",
                "![image](./images/azure_model_deployments_01.png)\n"
            ]
        },
        {
            "cell_type": "code",
            "execution_count": 3,
            "metadata": {
                "dotnet_interactive": {
                    "language": "pwsh"
                },
                "polyglot_notebook": {
                    "kernelName": "pwsh"
                }
            },
            "outputs": [],
            "source": [
                "$DeploymentName = '<Put your deployment name here>'"
            ]
        },
        {
            "attachments": {},
            "cell_type": "markdown",
            "metadata": {},
            "source": [
                "## Create chat completion\n",
                "\n",
                "Now let's send a sample chat completion to the deployment."
            ]
        },
        {
            "cell_type": "code",
            "execution_count": 4,
            "metadata": {
                "dotnet_interactive": {
                    "language": "pwsh"
                },
                "polyglot_notebook": {
                    "kernelName": "pwsh"
                }
            },
            "outputs": [
                {
                    "data": {
                        "text/plain": []
                    },
                    "metadata": {},
                    "output_type": "display_data"
                },
                {
                    "name": "stdout",
                    "output_type": "stream",
                    "text": [
                        "\n",
                        "\u001b[32;1mid      : \u001b[0mchatcmpl-78AVpiJfdZTKi5qYlrmfeFTdiAfzb\n",
                        "\u001b[32;1mobject  : \u001b[0mchat.completion\n",
                        "\u001b[32;1mmodel   : \u001b[0mgpt-35-turbo\n",
                        "\u001b[32;1musage   : \u001b[0m@{prompt_tokens=14; completion_tokens=9; total_tokens=23}\n",
                        "\u001b[32;1mchoices : \u001b[0m{@{message=; finish_reason=stop; index=0}}\n",
                        "\u001b[32;1mcreated : \u001b[0m2023/04/23 1:36:29\n",
                        "\u001b[32;1mMessage : \u001b[0mHello Azure OpenAI Service.\n",
                        "\u001b[32;1mAnswer  : \u001b[0m{Hello, how can I assist you today?}\n",
                        "\u001b[32;1mHistory : \u001b[0m{System.Collections.Specialized.OrderedDictionary, System.Collections.Specialized.Ordered\n",
                        "          Dictionary}\n",
                        "\n",
                        "\n"
                    ]
                }
            ],
            "source": [
                "# imports\n",
                "Import-Module ..\\PSOpenAI.psd1\n",
                "\n",
                "# Need to set these variables properly in the above codes.\n",
                "# $AuthType\n",
                "# $DeploymentName\n",
                "# $global:OPENAI_API_KEY\n",
                "# $global:OPENAI_API_BASE\n",
                "\n",
                "Request-AzureChatCompletion `\n",
                "  -Message 'Hello Azure OpenAI Service.' `\n",
                "  -Deployment $DeploymentName `\n",
                "  -AuthType $AuthType"
            ]
        }
    ],
    "metadata": {
        "kernelspec": {
            "display_name": ".NET (C#)",
            "language": "C#",
            "name": ".net-csharp"
        },
        "language_info": {
            "name": "polyglot-notebook"
        },
        "polyglot_notebook": {
            "kernelInfo": {
                "defaultKernelName": "csharp",
                "items": [
                    {
                        "aliases": [],
                        "name": "csharp"
                    },
                    {
                        "aliases": [],
                        "languageName": "pwsh",
                        "name": "pwsh"
                    }
                ]
            }
        }
    },
    "nbformat": 4,
    "nbformat_minor": 2
}