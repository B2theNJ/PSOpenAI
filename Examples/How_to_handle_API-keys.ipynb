{
 "cells": [
  {
   "attachments": {},
   "cell_type": "markdown",
   "metadata": {},
   "source": [
    "# How to handle API keys and other user-specific parameters\n",
    "\n",
    "To request to the OpenAI (and Azure OpenAI Service), we need to specify API token for authentication. And some scenarios also additional parameters such as organization IDs and Azure resource names must be provided.\n",
    "\n",
    "This guide illustrates how the PSOpenAI handle these user-specific parameters."
   ]
  },
  {
   "cell_type": "code",
   "execution_count": null,
   "metadata": {
    "dotnet_interactive": {
     "language": "pwsh"
    },
    "polyglot_notebook": {
     "kernelName": "pwsh"
    }
   },
   "outputs": [],
   "source": [
    "# imports\n",
    "Import-Module ..\\PSOpenAI.psd1 -Force"
   ]
  },
  {
   "attachments": {},
   "cell_type": "markdown",
   "metadata": {},
   "source": [
    "## API key\n",
    "\n",
    "### 1. Set an environment variable `OPENAI_API_KEY`\n",
    "\n",
    "Set the API key to the environment variable named `OPENAI_API_KEY`. PSOpenAI will use the key implicitly.\n",
    "\n",
    "This method is best suited when running on a trusted host or CI/CD pipeline."
   ]
  },
  {
   "cell_type": "code",
   "execution_count": null,
   "metadata": {
    "dotnet_interactive": {
     "language": "pwsh"
    },
    "polyglot_notebook": {
     "kernelName": "pwsh"
    }
   },
   "outputs": [
    {
     "name": "stdout",
     "output_type": "stream",
     "text": [
      "\u001b[93mVERBOSE: API Key found in environment variable \"OPENAI_API_KEY\".\u001b[0m\n",
      "\u001b[93mVERBOSE: API key to be used is sk-I0I*******************************************B5\u001b[0m\n",
      "\u001b[93mVERBOSE: Organization-ID to be used is \u001b[0m\n",
      "\u001b[93mVERBOSE: Request to OpenAI API\u001b[0m\n",
      "\u001b[93mVERBOSE: HTTP/1.1 POST with 79-byte payload\u001b[0m\n",
      "\u001b[93mVERBOSE: received 330-byte response of content type application/json\u001b[0m\n",
      "\u001b[93mVERBOSE: OpenAI API response: \r\n",
      "StatusCode    : 200\r\n",
      "processing_ms : 1109\r\n",
      "request_id    : 54be116c347d2b42e5db89133c074442\u001b[0m\r\n"
     ]
    }
   ],
   "source": [
    "$env:OPENAI_API_KEY = '<Put your API key here>'\n",
    "Request-ChatGPT -Message \"Who are you?\" -Verbose >$null"
   ]
  },
  {
   "attachments": {},
   "cell_type": "markdown",
   "metadata": {},
   "source": [
    "### 2. Set a global variable `OPENAI_API_KEY`\n",
    "\n",
    "Set the API key to the `$global:OPENAI_API_KEY` variable. PSOpenAI will use the key implicitly."
   ]
  },
  {
   "cell_type": "code",
   "execution_count": null,
   "metadata": {
    "dotnet_interactive": {
     "language": "pwsh"
    },
    "polyglot_notebook": {
     "kernelName": "pwsh"
    }
   },
   "outputs": [
    {
     "name": "stdout",
     "output_type": "stream",
     "text": [
      "\u001b[93mVERBOSE: API Key found in global variable \"OPENAI_API_KEY\".\u001b[0m\n",
      "\u001b[93mVERBOSE: API key to be used is sk-I0I*******************************************B5\u001b[0m\n",
      "\u001b[93mVERBOSE: Organization-ID to be used is \u001b[0m\n",
      "\u001b[93mVERBOSE: Request to OpenAI API\u001b[0m\n",
      "\u001b[93mVERBOSE: HTTP/1.1 POST with 79-byte payload\u001b[0m\n",
      "\u001b[93mVERBOSE: received 441-byte response of content type application/json\u001b[0m\n",
      "\u001b[93mVERBOSE: OpenAI API response: \r\n",
      "StatusCode    : 200\r\n",
      "processing_ms : 2064\r\n",
      "request_id    : 88f4fd28dc78917b0a17626c1b5afa31\u001b[0m\r\n"
     ]
    }
   ],
   "source": [
    "$global:OPENAI_API_KEY = '<Put your API key here>'\n",
    "Request-ChatGPT -Message \"Who are you?\" -Verbose >$null"
   ]
  },
  {
   "attachments": {},
   "cell_type": "markdown",
   "metadata": {},
   "source": [
    "### 3. Specify to the named parameter.\n",
    "\n",
    "Specify the API key explicitly in the `-ApiKey` parameter. It must be specified each time the function is called.\n",
    "\n",
    "This is best used when the function is called only once or with few calls, such as when executing manually from the console."
   ]
  },
  {
   "cell_type": "code",
   "execution_count": null,
   "metadata": {
    "dotnet_interactive": {
     "language": "pwsh"
    },
    "polyglot_notebook": {
     "kernelName": "pwsh"
    }
   },
   "outputs": [
    {
     "name": "stdout",
     "output_type": "stream",
     "text": [
      "\u001b[93mVERBOSE: API key to be used is sk-I0I*******************************************B5\u001b[0m\n",
      "\u001b[93mVERBOSE: Organization-ID to be used is \u001b[0m\n",
      "\u001b[93mVERBOSE: Request to OpenAI API\u001b[0m\n",
      "\u001b[93mVERBOSE: HTTP/1.1 POST with 79-byte payload\u001b[0m\n",
      "\u001b[93mVERBOSE: received 469-byte response of content type application/json\u001b[0m\n",
      "\u001b[93mVERBOSE: OpenAI API response: \r\n",
      "StatusCode    : 200\r\n",
      "processing_ms : 2558\r\n",
      "request_id    : 75711e5b9b0a79d5113a984dcc748dcb\u001b[0m\r\n"
     ]
    }
   ],
   "source": [
    "Request-ChatGPT -Message \"Who are you?\" -ApiKey '<Put your API key here>' -Verbose >$null"
   ]
  },
  {
   "attachments": {},
   "cell_type": "markdown",
   "metadata": {},
   "source": [
    "### Tips: API key as SecureString\n",
    "\n",
    "You can set the type of API keys as `[string]` or `[SecureString]`.\n",
    "\n",
    "SecureString can be used to mask user input and store credentials rather secure.\n",
    "\n",
    "⚠️ Note: Do not use SecureString on macOS and Linux. SecureString is not encrypted on these platforms."
   ]
  },
  {
   "cell_type": "code",
   "execution_count": null,
   "metadata": {
    "dotnet_interactive": {
     "language": "pwsh"
    },
    "polyglot_notebook": {
     "kernelName": "pwsh"
    }
   },
   "outputs": [
    {
     "name": "stdout",
     "output_type": "stream",
     "text": [
      "API key is System.Security.SecureString\n",
      "Secured API key text: 01000000d08c9ddf0115d1118c7a00c04fc297eb010000002343901df2c22b4db1ccc0a35e0258020000000002000000000003660000c0000000100000001a8bc4a28a275949832108e65096620e0000000004800000a0000000100000009abbb7b7b3cc99b8f8f21cee5784629f08000000ca17bc7322414068140000000f2aaafa6e13b3f7c15b474d0d2b3634da53dc2b\n"
     ]
    }
   ],
   "source": [
    "# Get API key from user input\n",
    "$SecureApiKey = Read-Host -Prompt 'Enter API key' -AsSecureString\n",
    "# API key is stored securely\n",
    "echo \"API key is $SecureApiKey\"\n",
    "\n",
    "# Save SecureString to global variable.\n",
    "$SecuredText = $SecureApiKey | ConvertFrom-SecureString\n",
    "$SecuredText | Out-File 'EncodedAPIKey.txt' -Force\n",
    "\n",
    "# This text can only be decrypted with\n",
    "#   the combination of the computer and user account used for encryption.\n",
    "echo \"Secured API key text: $SecuredText\"\n"
   ]
  },
  {
   "cell_type": "code",
   "execution_count": null,
   "metadata": {
    "dotnet_interactive": {
     "language": "pwsh"
    },
    "polyglot_notebook": {
     "kernelName": "pwsh"
    }
   },
   "outputs": [
    {
     "name": "stdout",
     "output_type": "stream",
     "text": [
      "\u001b[93mVERBOSE: API key to be used is sk-I0I*******************************************B5\u001b[0m\n",
      "\u001b[93mVERBOSE: Organization-ID to be used is \u001b[0m\n",
      "\u001b[93mVERBOSE: Request to OpenAI API\u001b[0m\n",
      "\u001b[93mVERBOSE: HTTP/1.1 POST with 79-byte payload\u001b[0m\n",
      "\u001b[93mVERBOSE: received 432-byte response of content type application/json\u001b[0m\n",
      "\u001b[93mVERBOSE: OpenAI API response: \r\n",
      "StatusCode    : 200\r\n",
      "processing_ms : 2031\r\n",
      "request_id    : c71fafeb4961fba748d0f5e4a80c036f\u001b[0m\r\n"
     ]
    }
   ],
   "source": [
    "# Let's use the encrypted API key for authentication\n",
    "# read encrypted key from text file.\n",
    "$SecuredText = Get-Content -Path 'EncodedAPIKey.txt'\n",
    "$SecureApiKey = $SecuredText | ConvertTo-SecureString\n",
    "Request-ChatGPT -Message \"Who are you?\" -ApiKey $SecureApiKey -Verbose >$null"
   ]
  },
  {
   "attachments": {},
   "cell_type": "markdown",
   "metadata": {},
   "source": [
    "## Organization ID\n",
    "\n",
    "For users who belong to multiple organizations, you can pass an organization id for an API request. Usage from these API requests will count against the specified organization's subscription quota.\n",
    "\n",
    "The method of specifying the organization ID is the same as for API keys. It can be specified as an environment variable, a global variable, or a named parameter. The variable name is `OPENAI_ORGANIZATION` and the parameter name is `-Orgnization`.\n",
    "\n",
    "Note that SecureString cannot be used for organization ID. This is because there is usually no security risk even if the organization ID is exposed to public."
   ]
  },
  {
   "cell_type": "code",
   "execution_count": null,
   "metadata": {
    "dotnet_interactive": {
     "language": "pwsh"
    },
    "polyglot_notebook": {
     "kernelName": "pwsh"
    }
   },
   "outputs": [
    {
     "name": "stdout",
     "output_type": "stream",
     "text": [
      "\u001b[93mVERBOSE: API Key found in global variable \"OPENAI_API_KEY\".\u001b[0m\n",
      "\u001b[93mVERBOSE: API key to be used is sk-I0I*******************************************B5\u001b[0m\n",
      "\u001b[93mVERBOSE: Organization-ID to be used is org-BX********************IE\u001b[0m\n",
      "\u001b[93mVERBOSE: Request to OpenAI API\u001b[0m\n",
      "\u001b[93mVERBOSE: HTTP/1.1 POST with 79-byte payload\u001b[0m\n",
      "\u001b[93mVERBOSE: received 319-byte response of content type application/json\u001b[0m\n",
      "\u001b[93mVERBOSE: OpenAI API response: \r\n",
      "StatusCode    : 200\r\n",
      "processing_ms : 1247\r\n",
      "request_id    : a066189ca6e29d3668185f097c9b35f8\u001b[0m\r\n"
     ]
    }
   ],
   "source": [
    "# 1. Environment variable\n",
    "$env:OPENAI_ORGANIZATION = '<Put your organization ID here>'\n",
    "\n",
    "# 2. Global variable\n",
    "$global:OPENAI_ORGANIZATION = '<Put your organization ID here>'\n",
    "\n",
    "# 3. Named parameter\n",
    "Request-ChatGPT -Message 'Hello OpenAI' -Organization '<Put your organization ID here>' -Verbose >$null"
   ]
  },
  {
   "attachments": {},
   "cell_type": "markdown",
   "metadata": {},
   "source": [
    "## API Base (Azure OpenAI Service)\n",
    "\n",
    "For Azure OpenAI Service, the API base is required to be specified. This is usually a URL of the form `https://<your-resource-name>.openai.azure.com/`.\n",
    "\n",
    "The method of specifying the API base is the same as for API keys. It can be specified as an environment variable, a global variable, or a named parameter. The variable name is `OPENAI_API_BASE` and the parameter name is `-ApiBase`.\n",
    "\n",
    "Note that SecureString cannot be used for API base. This is because there is usually no security risk even if that is exposed to public."
   ]
  },
  {
   "cell_type": "code",
   "execution_count": null,
   "metadata": {
    "dotnet_interactive": {
     "language": "pwsh"
    },
    "polyglot_notebook": {
     "kernelName": "pwsh"
    }
   },
   "outputs": [
    {
     "name": "stdout",
     "output_type": "stream",
     "text": [
      "\u001b[93mVERBOSE: API Key found in global variable \"OPENAI_API_KEY\".\u001b[0m\n",
      "\u001b[93mVERBOSE: API key to be used is 81c***************************e8\u001b[0m\n",
      "\u001b[93mVERBOSE: Request to Azure API\u001b[0m\n",
      "\u001b[93mVERBOSE: HTTP/1.1 POST with 54-byte payload\u001b[0m\n",
      "\u001b[93mVERBOSE: received 325-byte response of content type application/json\u001b[0m\n",
      "\u001b[93mVERBOSE: Azure API response: \r\n",
      "StatusCode    : 200\r\n",
      "processing_ms : 555.6054\r\n",
      "request_id    : 8f4622be-6b55-4462-bb37-ed1a8d9100e6\u001b[0m\r\n"
     ]
    }
   ],
   "source": [
    "# Set required params for the Azure OpenAI Service\n",
    "$global:OPENAI_API_KEY = '<Put your API key for Azure here>'\n",
    "$Deployment = 'gpt35turbo-48c5d8d9aaa'\n",
    "\n",
    "# 1. Environment variable\n",
    "$env:OPENAI_API_BASE = 'https://your-resource-name.openai.azure.com/'\n",
    "\n",
    "# 2. Global variable\n",
    "$global:OPENAI_API_BASE = 'https://your-resource-name.openai.azure.com/'\n",
    "\n",
    "# 3. Named parameter\n",
    "Request-AzureChatGPT -Message 'Hello Azure' -Deployment $Deployment -ApiBase 'https://your-resource-name.openai.azure.com/' -Verbose >$null"
   ]
  }
 ],
 "metadata": {
  "kernelspec": {
   "display_name": ".NET (C#)",
   "language": "C#",
   "name": ".net-csharp"
  },
  "language_info": {
   "name": "polyglot-notebook"
  },
  "polyglot_notebook": {
   "kernelInfo": {
    "defaultKernelName": "csharp",
    "items": [
     {
      "aliases": [],
      "name": "csharp"
     },
     {
      "aliases": [],
      "languageName": "pwsh",
      "name": "pwsh"
     }
    ]
   }
  }
 },
 "nbformat": 4,
 "nbformat_minor": 2
}
